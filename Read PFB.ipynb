{
 "cells": [
  {
   "cell_type": "code",
   "execution_count": 39,
   "metadata": {},
   "outputs": [],
   "source": [
    "import numpy as np"
   ]
  },
  {
   "cell_type": "code",
   "execution_count": 47,
   "metadata": {},
   "outputs": [
    {
     "name": "stdout",
     "output_type": "stream",
     "text": [
      "[111.]\n"
     ]
    }
   ],
   "source": [
    "foo = np.fromfile('file.raw', dtype = 'float32')\n",
    "print(foo)"
   ]
  },
  {
   "cell_type": "code",
   "execution_count": 11,
   "metadata": {},
   "outputs": [],
   "source": [
    "with open('file.raw', mode='rb') as file: # b is important -> binary\n",
    "    fileContent = file.read()"
   ]
  },
  {
   "cell_type": "code",
   "execution_count": 60,
   "metadata": {
    "scrolled": false
   },
   "outputs": [
    {
     "name": "stdout",
     "output_type": "stream",
     "text": [
      "Significant frequency channel\n",
      "2867\n",
      "Significant frequency channel\n",
      "2908\n",
      "Significant frequency channel\n",
      "3072\n",
      "Significant frequency channel\n",
      "11060\n",
      "Significant frequency channel\n",
      "11101\n",
      "Significant frequency channel\n",
      "11265\n",
      "('Frequency channels are', array([ 2867.,  2908.,  3072., 11060., 11101., 11265.]))\n"
     ]
    },
    {
     "data": {
      "image/png": "[encoded data removed]",
      "text/plain": [
       "<Figure size 432x288 with 1 Axes>"
      ]
     },
     "metadata": {
      "needs_background": "light"
     },
     "output_type": "display_data"
    },
    {
     "name": "stdout",
     "output_type": "stream",
     "text": [
      "('Channel width is', 41.0, 'MHz')\n"
     ]
    }
   ],
   "source": [
    "import numpy as np\n",
    "from matplotlib import pyplot as plt\n",
    "data = np.loadtxt('sine2.txt',dtype='float32')\n",
    "channels=[]\n",
    "freq=[]\n",
    "diff=[]\n",
    "width = []\n",
    "for i in range(len(data)):\n",
    "    if data[i] > 1E9:\n",
    "        print ('Significant frequency channel')\n",
    "        print(i)\n",
    "        freq = np.append(freq,data[i])\n",
    "        channels = np.append(channels,i)\n",
    "print ('Frequency channels are', channels)\n",
    "\n",
    "for i in range(len(channels)-1):\n",
    "    diff = channels[i+1] - channels[i]\n",
    "    width = np.append(width,diff)\n",
    "plt.plot(data)\n",
    "plt.xlabel('Channel number')\n",
    "plt.ylabel('Amplitude')\n",
    "plt.show()\n",
    "\n",
    "print('Channel width is', width[0], 'MHz')"
   ]
  },
  {
   "cell_type": "code",
   "execution_count": 54,
   "metadata": {},
   "outputs": [
    {
     "name": "stdout",
     "output_type": "stream",
     "text": [
      "Significant frequency channel\n",
      "5734\n",
      "Significant frequency channel\n",
      "5816\n",
      "Significant frequency channel\n",
      "6144\n",
      "Significant frequency channel\n",
      "13927\n",
      "Significant frequency channel\n",
      "14009\n",
      "Significant frequency channel\n",
      "14337\n",
      "('Frequency channels are', array([ 5734.,  5816.,  6144., 13927., 14009., 14337.]))\n"
     ]
    },
    {
     "data": {
      "image/png": "[encoded data removed]",
      "text/plain": [
       "<Figure size 432x288 with 1 Axes>"
      ]
     },
     "metadata": {
      "needs_background": "light"
     },
     "output_type": "display_data"
    },
    {
     "name": "stdout",
     "output_type": "stream",
     "text": [
      "('Channel width is', 82.0, 'MHz')\n"
     ]
    }
   ],
   "source": [
    "import numpy as np\n",
    "from matplotlib import pyplot as plt\n",
    "data = np.loadtxt('sine2times.txt',dtype='float32')\n",
    "channels=[]\n",
    "freq=[]\n",
    "diff=[]\n",
    "width = []\n",
    "for i in range(len(data)):\n",
    "    if data[i] > 1E9:\n",
    "        print ('Significant frequency channel')\n",
    "        print(i)\n",
    "        freq = np.append(freq,data[i])\n",
    "        channels = np.append(channels,i)\n",
    "print ('Frequency channels are', channels)\n",
    "\n",
    "for i in range(len(channels)-1):\n",
    "    diff = channels[i+1] - channels[i]\n",
    "    width = np.append(width,diff)\n",
    "plt.plot(data,'.')\n",
    "plt.xlabel('Channel number')\n",
    "plt.ylabel('Amplitude')\n",
    "plt.show()\n",
    "\n",
    "print('Channel width is', width[0], 'MHz')"
   ]
  },
  {
   "cell_type": "code",
   "execution_count": null,
   "metadata": {},
   "outputs": [],
   "source": []
  }
 ],
 "metadata": {
  "kernelspec": {
   "display_name": "Python 3",
   "language": "python",
   "name": "python3"
  },
  "language_info": {
   "codemirror_mode": {
    "name": "ipython",
    "version": 2
   },
   "file_extension": ".py",
   "mimetype": "text/x-python",
   "name": "python",
   "nbconvert_exporter": "python",
   "pygments_lexer": "ipython2",
   "version": "2.7.15+"
  }
 },
 "nbformat": 4,
 "nbformat_minor": 2
}
